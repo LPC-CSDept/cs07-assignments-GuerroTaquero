{
  "nbformat": 4,
  "nbformat_minor": 0,
  "metadata": {
    "colab": {
      "name": "Untitled0.ipynb",
      "provenance": []
    },
    "kernelspec": {
      "name": "python3",
      "display_name": "Python 3"
    },
    "language_info": {
      "name": "python"
    }
  },
  "cells": [
    {
      "cell_type": "code",
      "execution_count": 2,
      "metadata": {
        "colab": {
          "base_uri": "https://localhost:8080/"
        },
        "id": "Dq9SwhW3RVe2",
        "outputId": "98ebb389-aaa1-4f11-9560-9c6225aecce2"
      },
      "outputs": [
        {
          "output_type": "stream",
          "name": "stdout",
          "text": [
            "0 <--\n",
            "51\n",
            "76 <--\n",
            "15\n",
            "8 <--\n",
            "63\n",
            "61\n",
            "22 <--\n",
            "92 <--\n"
          ]
        }
      ],
      "source": [
        "import random\n",
        "\n",
        "randomNum = random.randint(0,100)\n",
        "counter = 0\n",
        "while counter < 2:\n",
        "  if(randomNum % 2 == 0):\n",
        "    counter += 1\n",
        "    print(randomNum, \"<--\")\n",
        "  else:\n",
        "    counter = 0\n",
        "    print(randomNum)\n",
        "  randomNum = random.randint(0,100)"
      ]
    },
    {
      "cell_type": "code",
      "source": [
        "pcount = 0\n",
        "while(True):\n",
        "  inputString = input(\"please enter a string: \")\n",
        "  if(inputString == \"stop\"):\n",
        "    break\n",
        "  elif(\"p\" in inputString):\n",
        "    pcount += 1\n",
        "print(\"there were\",pcount,\"words that contained p\")"
      ],
      "metadata": {
        "colab": {
          "base_uri": "https://localhost:8080/"
        },
        "id": "U9_d6BbTRlfU",
        "outputId": "7a80faca-219a-4d40-a2be-ec71030e70e1"
      },
      "execution_count": 3,
      "outputs": [
        {
          "output_type": "stream",
          "name": "stdout",
          "text": [
            "please enter a string: pogo stick\n",
            "please enter a string: porygon\n",
            "please enter a string: power\n",
            "please enter a string: hello\n",
            "please enter a string: bob\n",
            "please enter a string: stop\n",
            "there were 3 words that contained p\n"
          ]
        }
      ]
    }
  ]
}
