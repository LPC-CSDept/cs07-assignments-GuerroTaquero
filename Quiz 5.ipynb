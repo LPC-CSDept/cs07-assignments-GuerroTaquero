{
 "cells": [
  {
   "cell_type": "code",
   "execution_count": 46,
   "metadata": {},
   "outputs": [
    {
     "name": "stdout",
     "output_type": "stream",
     "text": [
      "before [17, 33, 51, 67, 59, 11, 18, 54, 76, 89]\n",
      "11\n",
      "after [11, 33, 51, 67, 59, 17, 18, 54, 76, 89]\n",
      "17\n",
      "after [11, 17, 51, 67, 59, 33, 18, 54, 76, 89]\n"
     ]
    }
   ],
   "source": [
    "import random\n",
    "\n",
    "list = []\n",
    "for i in range(10):\n",
    "    list.append(random.randint(0,100))\n",
    "\n",
    "print(\"before\", list)\n",
    "\n",
    "minv = min(list)\n",
    "print(minv)\n",
    "list[list.index(minv)] = list[0]\n",
    "list[0] = minv\n",
    "print(\"after 1\", list)\n",
    "\n",
    "minv = min(list[1:len(list)-1])\n",
    "print(minv)\n",
    "list[list.index(minv)] = list[1]\n",
    "list[1] = minv\n",
    "print(\"after 2\", list)\n",
    "    "
   ]
  },
  {
   "cell_type": "code",
   "execution_count": 10,
   "metadata": {},
   "outputs": [
    {
     "name": "stdout",
     "output_type": "stream",
     "text": [
      "['Bill', 'Jim', 'Joe'] [[100, 90, 90, 90], [100, 90, 80, 80], [100, 80, 90, 90]]\n",
      "Bill average score: 92.5\n",
      "Bill summation: 370\n",
      "Jim average score: 87.5\n",
      "Jim summation: 350\n",
      "Joe average score: 90.0\n",
      "Joe summation: 360\n",
      "column 0 average:  100.0\n",
      "column 0 summation: 300\n",
      "column 1 average:  86.66666666666667\n",
      "column 1 summation: 260\n",
      "column 2 average:  86.66666666666667\n",
      "column 2 summation: 260\n",
      "column 3 average:  86.66666666666667\n",
      "column 3 summation: 260\n"
     ]
    }
   ],
   "source": [
    "rows = int(input(\"how many rows of scores should there be? \"))\n",
    "cols = int(input(\"how many columns of students should there be? \"))\n",
    "\n",
    "namesList = []\n",
    "scoresList = []\n",
    "\n",
    "for i in range(cols):\n",
    "    namesList.append(input(\"please enter the student's name: \"))\n",
    "    scoresList.append([])\n",
    "    for i in range(rows):\n",
    "        scoresList[-1].append(int(input(\"please enter a score for this student: \")))\n",
    "\n",
    "print(namesList, scoresList)\n",
    "\n",
    "\n",
    "for i in range(len(scoresList)):\n",
    "    print(namesList[i], \"average score:\", sum(scoresList[i])/len(scoresList[i]))\n",
    "    print(namesList[i], \"summation:\", sum(scoresList[i]))\n",
    "    \n",
    "transposedScores = list(map(list, zip(*scoresList)))\n",
    "\n",
    "for i in range(len(transposedScores)):\n",
    "    print(\"column\", i, \"average: \", sum(transposedScores[i]) / len(transposedScores[i]))\n",
    "    print(\"column\", i, \"summation:\", sum(transposedScores[i]))\n",
    "\n",
    "\n"
   ]
  },
  {
   "cell_type": "code",
   "execution_count": 39,
   "metadata": {},
   "outputs": [
    {
     "data": {
      "image/png": "[encoded data removed]",
      "text/plain": [
       "<Figure size 432x288 with 1 Axes>"
      ]
     },
     "metadata": {
      "needs_background": "light"
     },
     "output_type": "display_data"
    }
   ],
   "source": [
    "import matplotlib.pyplot as plt\n",
    "import numpy as np\n",
    "\n",
    "\n",
    "labels = ['Bill', 'Jim', 'Joe']\n",
    "math = [100, 100, 100]\n",
    "science = [90, 90, 80]\n",
    "english = [90, 90, 90]\n",
    "computer = [90, 80, 90]\n",
    "\n",
    "x = np.arange(len(labels))\n",
    "width = 0.15\n",
    "\n",
    "fig, ax = plt.subplots()\n",
    "rects1 = ax.bar(x - width*1.5, math, width, label='Math')\n",
    "rects2 = ax.bar(x - width*0.5, english, width, label='English')\n",
    "rects3 = ax.bar(x + width*0.5, science, width, label='Science')\n",
    "rects4 = ax.bar(x + width*1.5, computer, width, label='Computer')\n",
    "\n",
    "ax.set_ylabel('Scores')\n",
    "ax.set_title('Grouped graph for scores')\n",
    "ax.set_xticks(x)\n",
    "ax.set_xticklabels(labels)\n",
    "ax.legend()\n",
    "\n",
    "ax.bar_label(rects1, padding=3)\n",
    "ax.bar_label(rects2, padding=3)\n",
    "ax.bar_label(rects3, padding=3)\n",
    "ax.bar_label(rects4, padding=3)\n",
    "\n",
    "fig.tight_layout()\n",
    "\n",
    "plt.show()"
   ]
  }
 ],
 "metadata": {
  "interpreter": {
   "hash": "3b794ef8bc7fd63add6bf0b26a8e01938b1e16605bb6455fcd80427ffb29912f"
  },
  "kernelspec": {
   "display_name": "Python 3.9.0 64-bit",
   "language": "python",
   "name": "python3"
  },
  "language_info": {
   "codemirror_mode": {
    "name": "ipython",
    "version": 3
   },
   "file_extension": ".py",
   "mimetype": "text/x-python",
   "name": "python",
   "nbconvert_exporter": "python",
   "pygments_lexer": "ipython3",
   "version": "3.9.7"
  },
  "orig_nbformat": 4
 },
 "nbformat": 4,
 "nbformat_minor": 2
}
