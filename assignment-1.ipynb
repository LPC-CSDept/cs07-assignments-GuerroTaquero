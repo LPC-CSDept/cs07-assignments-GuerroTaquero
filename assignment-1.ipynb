{
 "cells": [
  {
   "cell_type": "code",
   "execution_count": null,
   "metadata": {},
   "outputs": [
    {
     "name": "stdout",
     "output_type": "stream",
     "text": [
      "the total number of students is 170\n",
      "there are 80 males and 90 females in the class\n",
      "males make up 136.0 percent of the class\n",
      "females make up 153.0 percent of the class\n"
     ]
    }
   ],
   "source": [
    "males = int(input(\"how many males are in the class?: \"))\n",
    "females = int(input(\"how many females are in the class?: \"))\n",
    "print(\"the total number of students is\", males + females)\n",
    "print(\"there are\", males, \"males and\", females, \"females in the class\")\n",
    "print(\"males make up\", ((males+females)/100) * males, \"percent of the class\")\n",
    "print(\"females make up\", ((males+females)/100) * females, \"percent of the class\")"
   ]
  },
  {
   "cell_type": "code",
   "execution_count": null,
   "metadata": {},
   "outputs": [],
   "source": [
    "celcius = int(input(\"put in a celcius temperature\"))\n",
    "print(celcius, \"degrees celcius is\",((9/5)*celcius) + 32,\"degrees fahrenheit\")"
   ]
  },
  {
   "cell_type": "code",
   "execution_count": 1,
   "metadata": {},
   "outputs": [
    {
     "name": "stdout",
     "output_type": "stream",
     "text": [
      "zXC\n",
      "0\n"
     ]
    }
   ],
   "source": [
    "string = input(\"please enter your string\")\n",
    "remove = input(\"please enter what to remove\")\n",
    "count = 0\n",
    "\n",
    "for i in range(len(string)-len(remove)+1):\n",
    "    if(remove == string[i:i+len(remove)]):\n",
    "        count += 1\n",
    "\n",
    "\n",
    "string = string.replace(remove, \"\")\n",
    "print(string)\n",
    "print(count)"
   ]
  },
  {
   "cell_type": "code",
   "execution_count": null,
   "metadata": {},
   "outputs": [],
   "source": []
  },
  {
   "cell_type": "code",
   "execution_count": null,
   "metadata": {},
   "outputs": [],
   "source": []
  }
 ],
 "metadata": {
  "interpreter": {
   "hash": "3b794ef8bc7fd63add6bf0b26a8e01938b1e16605bb6455fcd80427ffb29912f"
  },
  "kernelspec": {
   "display_name": "Python 3.9.0 64-bit",
   "language": "python",
   "name": "python3"
  },
  "language_info": {
   "codemirror_mode": {
    "name": "ipython",
    "version": 3
   },
   "file_extension": ".py",
   "mimetype": "text/x-python",
   "name": "python",
   "nbconvert_exporter": "python",
   "pygments_lexer": "ipython3",
   "version": "3.9.0"
  },
  "orig_nbformat": 4
 },
 "nbformat": 4,
 "nbformat_minor": 2
}
