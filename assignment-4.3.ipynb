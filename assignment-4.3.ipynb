{
 "cells": [
  {
   "cell_type": "code",
   "execution_count": 1,
   "metadata": {},
   "outputs": [
    {
     "name": "stdout",
     "output_type": "stream",
     "text": [
      "1\n",
      "2\n",
      "3\n",
      "4\n",
      "5\n",
      "6\n",
      "7\n",
      "8\n",
      "9\n",
      "10\n"
     ]
    }
   ],
   "source": [
    "i = 0\n",
    "while i < 10:\n",
    "    i+=1\n",
    "    print(i)\n",
    "    "
   ]
  },
  {
   "cell_type": "code",
   "execution_count": 5,
   "metadata": {},
   "outputs": [
    {
     "name": "stdout",
     "output_type": "stream",
     "text": [
      "asdfasdfasdf\n"
     ]
    }
   ],
   "source": [
    "ans = input(\"please enter a letter\")\n",
    "while(ans != \"q\"):\n",
    "    print(ans)\n",
    "    ans = input(\"please enter a letter\")\n"
   ]
  },
  {
   "cell_type": "code",
   "execution_count": 26,
   "metadata": {},
   "outputs": [
    {
     "name": "stdout",
     "output_type": "stream",
     "text": [
      "0.5880696478126134 inf\n",
      "0.06371340964329097 0.5880696478126134\n",
      "0.006928164774480661 0.06371340964329097\n",
      "0.2993968531841167 0.006928164774480661\n"
     ]
    }
   ],
   "source": [
    "import random\n",
    "first = random.random()\n",
    "last = float(\"inf\")\n",
    "while(last > first):\n",
    "    print(first, last)\n",
    "    last = first\n",
    "    first = random.random()\n",
    "print(first, last)\n",
    "    \n",
    "\n"
   ]
  },
  {
   "cell_type": "code",
   "execution_count": 33,
   "metadata": {},
   "outputs": [],
   "source": [
    "value = int(input(\"please enter an integer value\"))\n",
    "while(not value in range(0,101)):\n",
    "    print(\"that value is not in between 0 and 100\")\n",
    "    value = int(input(\"please enter an integer value\"))\n"
   ]
  },
  {
   "cell_type": "code",
   "execution_count": null,
   "metadata": {},
   "outputs": [],
   "source": []
  }
 ],
 "metadata": {
  "interpreter": {
   "hash": "8455a15bd60d6049aeb4bb03aca1fccc3b529385f75446bed320ae31484763bd"
  },
  "kernelspec": {
   "display_name": "Python 3.9.9 ('base')",
   "language": "python",
   "name": "python3"
  },
  "language_info": {
   "codemirror_mode": {
    "name": "ipython",
    "version": 3
   },
   "file_extension": ".py",
   "mimetype": "text/x-python",
   "name": "python",
   "nbconvert_exporter": "python",
   "pygments_lexer": "ipython3",
   "version": "3.9.9"
  },
  "orig_nbformat": 4
 },
 "nbformat": 4,
 "nbformat_minor": 2
}
