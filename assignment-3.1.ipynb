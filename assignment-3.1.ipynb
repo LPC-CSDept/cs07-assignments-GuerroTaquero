{
 "cells": [
  {
   "cell_type": "markdown",
   "metadata": {},
   "source": [
    "<h3 style=\"color: purple\"> Exercise 4</h3>"
   ]
  },
  {
   "cell_type": "code",
   "execution_count": 5,
   "metadata": {},
   "outputs": [
    {
     "name": "stdout",
     "output_type": "stream",
     "text": [
      "120 is greater than 100\n"
     ]
    }
   ],
   "source": [
    "ans = int(input(\"please enter a number: \"))\n",
    "if(ans < 50):\n",
    "    print(ans, \"is less than 50\")\n",
    "elif(ans < 100):\n",
    "    print(ans, \"is greater than 50 and less than 100\")\n",
    "else:\n",
    "    print(ans, \"is greater than 100\")"
   ]
  },
  {
   "cell_type": "markdown",
   "metadata": {},
   "source": [
    "<h3 style=\"color: purple\"> Exercise 5</h3>"
   ]
  },
  {
   "cell_type": "code",
   "execution_count": 2,
   "metadata": {},
   "outputs": [
    {
     "name": "stdout",
     "output_type": "stream",
     "text": [
      "40 means you got an F\n"
     ]
    }
   ],
   "source": [
    "grade = int(input(\"please enter your grade\"))\n",
    "if(grade >= 90):\n",
    "    print(grade, \"means you got an A\")\n",
    "elif(grade >= 80):\n",
    "    print(grade, \"means you got an B\")\n",
    "elif(grade >= 70):\n",
    "    print(grade, \"means you got an C\")\n",
    "elif(grade >= 60):\n",
    "    print(grade, \"means you got an D\")\n",
    "else:\n",
    "    print(grade, \"means you got an F\")"
   ]
  },
  {
   "cell_type": "markdown",
   "metadata": {},
   "source": [
    "<h3 style=\"color: purple\"> Exercise 6</h3>"
   ]
  },
  {
   "cell_type": "code",
   "execution_count": 4,
   "metadata": {},
   "outputs": [
    {
     "name": "stdout",
     "output_type": "stream",
     "text": [
      "You're in quadrant 4\n"
     ]
    }
   ],
   "source": [
    "x = int(input(\"please enter your x coordinate\"))\n",
    "y = int(input(\"please enter your y coordinate\"))\n",
    "\n",
    "if(x >= 0):\n",
    "    if(y >= 0):\n",
    "        print(\"You're in quadrant 1\")\n",
    "    else:\n",
    "        print(\"You're in quadrant 4\")\n",
    "        \n",
    "else:\n",
    "    if(y >= 0):\n",
    "        print(\"You're in quadrant 2\")\n",
    "    else:\n",
    "        print(\"You're in quadrant 3\")\n"
   ]
  },
  {
   "cell_type": "markdown",
   "metadata": {},
   "source": [
    "<h3 style=\"color: purple\"> Exercise 7</h3>"
   ]
  },
  {
   "cell_type": "code",
   "execution_count": 186,
   "metadata": {},
   "outputs": [
    {
     "name": "stdout",
     "output_type": "stream",
     "text": [
      "all numbers are equal\n",
      "[1, 1, 1]\n"
     ]
    }
   ],
   "source": [
    "import random\n",
    "number1 = random.randint(0, 100)\n",
    "number2 = random.randint(0, 100)\n",
    "number3 = random.randint(0, 100)\n",
    "ans = [number1, number2, number3];\n",
    "count = 0\n",
    "for i in range(len(ans)):\n",
    "    for j in range(len(ans)):\n",
    "        if(i == j):\n",
    "            continue\n",
    "        if(ans[i] == ans[j]):\n",
    "            count += 1\n",
    "if(count > 2):\n",
    "    print(\"all numbers are equal\")\n",
    "elif(count != 0):\n",
    "    print(\"2 numbers are equal\")\n",
    "else:\n",
    "    print(\"all numbers are different\")\n",
    "print(ans)\n",
    "\n"
   ]
  },
  {
   "cell_type": "markdown",
   "metadata": {},
   "source": [
    "<h3 style=\"color: purple\"> Exercise 8</h3>"
   ]
  },
  {
   "cell_type": "code",
   "execution_count": 193,
   "metadata": {},
   "outputs": [
    {
     "name": "stdout",
     "output_type": "stream",
     "text": [
      "the greatest number is 98\n",
      "[77, 83, 98]\n"
     ]
    }
   ],
   "source": [
    "import random\n",
    "number1 = random.randint(0, 100)\n",
    "number2 = random.randint(0, 100)\n",
    "number3 = random.randint(0, 100)\n",
    "ans = [number1, number2, number3];\n",
    "print(\"the greatest number is:\", max(ans))\n",
    "print(ans)"
   ]
  },
  {
   "cell_type": "markdown",
   "metadata": {},
   "source": [
    "<h3 style=\"color: purple\"> Exercise 9</h3>"
   ]
  },
  {
   "cell_type": "code",
   "execution_count": 195,
   "metadata": {},
   "outputs": [
    {
     "name": "stdout",
     "output_type": "stream",
     "text": [
      "the input numbers:  666 88 99\n"
     ]
    }
   ],
   "source": [
    "number1 = int(input(\"please enter number 1\"))\n",
    "number2 = int(input(\"please enter number 2\"))\n",
    "number3 = int(input(\"please enter number 3\"))\n",
    "ans = [number1, number2, number3]\n",
    "ans.sort()\n",
    "print(\"the input numbers:\", number1, number2, number3)\n"
   ]
  },
  {
   "cell_type": "markdown",
   "metadata": {},
   "source": [
    "<h3 style=\"color: purple\"> Exercise 10</h3>"
   ]
  },
  {
   "cell_type": "code",
   "execution_count": 2,
   "metadata": {},
   "outputs": [
    {
     "name": "stdout",
     "output_type": "stream",
     "text": [
      "True\n"
     ]
    }
   ],
   "source": [
    "email = input(\"please enter your email\")\n",
    "print(len(email) in range(5,31) and \"@\" in email and email[0].isalpha() and \".\" in email.split(\"@\")[1])\n"
   ]
  }
 ],
 "metadata": {
  "interpreter": {
   "hash": "a13f174bdfb9086407698ac94c2922ad46eb1b717dbcaf7394ce5ac4acd3ddbc"
  },
  "kernelspec": {
   "display_name": "Python 3.8.10 64-bit (windows store)",
   "language": "python",
   "name": "python3"
  },
  "language_info": {
   "codemirror_mode": {
    "name": "ipython",
    "version": 3
   },
   "file_extension": ".py",
   "mimetype": "text/x-python",
   "name": "python",
   "nbconvert_exporter": "python",
   "pygments_lexer": "ipython3",
   "version": "3.9.9"
  },
  "orig_nbformat": 4
 },
 "nbformat": 4,
 "nbformat_minor": 2
}
