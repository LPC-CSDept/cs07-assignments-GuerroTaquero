{
 "cells": [
  {
   "cell_type": "code",
   "execution_count": 6,
   "metadata": {},
   "outputs": [
    {
     "name": "stdout",
     "output_type": "stream",
     "text": [
      "43\n",
      "73\n"
     ]
    }
   ],
   "source": [
    "import random\n",
    "randomInt = random.randint(0,100)\n",
    "while(randomInt % 2 != 0):\n",
    "    print(randomInt)\n",
    "    randomInt = random.randint(0,100)"
   ]
  },
  {
   "cell_type": "code",
   "execution_count": 11,
   "metadata": {},
   "outputs": [
    {
     "name": "stdout",
     "output_type": "stream",
     "text": [
      "30 30\n",
      "61 31\n",
      "88 27\n",
      "173 85\n"
     ]
    }
   ],
   "source": [
    "import random\n",
    "i = random.randint(0,100)\n",
    "randomInt = i\n",
    "while(randomInt <= 100):\n",
    "    print(randomInt, i)\n",
    "    i = random.randint(0,100)\n",
    "    randomInt += i\n",
    "print(randomInt, i)"
   ]
  },
  {
   "cell_type": "code",
   "execution_count": null,
   "metadata": {},
   "outputs": [],
   "source": []
  }
 ],
 "metadata": {
  "interpreter": {
   "hash": "8455a15bd60d6049aeb4bb03aca1fccc3b529385f75446bed320ae31484763bd"
  },
  "kernelspec": {
   "display_name": "Python 3.9.9 ('base')",
   "language": "python",
   "name": "python3"
  },
  "language_info": {
   "codemirror_mode": {
    "name": "ipython",
    "version": 3
   },
   "file_extension": ".py",
   "mimetype": "text/x-python",
   "name": "python",
   "nbconvert_exporter": "python",
   "pygments_lexer": "ipython3",
   "version": "3.9.9"
  },
  "orig_nbformat": 4
 },
 "nbformat": 4,
 "nbformat_minor": 2
}
