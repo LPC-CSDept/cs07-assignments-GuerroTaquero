{
 "cells": [
  {
   "cell_type": "code",
   "execution_count": null,
   "metadata": {},
   "outputs": [],
   "source": [
    "num1 = []\n",
    "for i in range(5):\n",
    "    num1.append(int(input(\"Enter Value for first list: \")))\n",
    "\n",
    "num2 = []\n",
    "for i in range(5):\n",
    "     num2.append(int(input(\"Enter Value for second list: \")))\n",
    "\n",
    "def sumProduct(a, b):\n",
    "    ans= []\n",
    "    for i in range(len(a)):\n",
    "        ans.append(a[i] * b[i])\n",
    "    print (ans)\n",
    "    return sum(ans)\n",
    "\n",
    "print (sumProduct(num1, num2))"
   ]
  },
  {
   "cell_type": "code",
   "execution_count": null,
   "metadata": {},
   "outputs": [],
   "source": [
    "string = input(\"Enter string: \")\n",
    "\n",
    "def stripSpace(str):\n",
    "    ans = \" \"\n",
    "    for i in str:\n",
    "        if(not i.islower()):\n",
    "            ans+=i\n",
    "    return ans\n",
    "\n",
    "print(stripSpace(string))"
   ]
  },
  {
   "cell_type": "code",
   "execution_count": null,
   "metadata": {},
   "outputs": [],
   "source": [
    "string = input(\"please enter a string: \")\n",
    "\n",
    "isspace = lambda c : c == \" \"\n",
    "\n",
    "print (isspace(\"l o l\"))"
   ]
  },
  {
   "cell_type": "code",
   "execution_count": null,
   "metadata": {},
   "outputs": [],
   "source": [
    "string = input(\"please enter a string: \")\n",
    "\n",
    "isspace = lambda c : c == \" \"\n",
    "\n",
    "def getalnum(msg):\n",
    "    for i in msg:\n",
    "        if (not isspace(i)):\n",
    "            yield i\n",
    "\n",
    "gen = getalnum(string)\n",
    "print (\"Value obtained from generator function are:\")\n",
    "for element in gen:\n",
    "    print (element, end=\"\")"
   ]
  }
 ],
 "metadata": {
  "language_info": {
   "name": "python"
  },
  "orig_nbformat": 4
 },
 "nbformat": 4,
 "nbformat_minor": 2
}
