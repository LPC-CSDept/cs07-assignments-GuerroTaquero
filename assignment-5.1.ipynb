{
 "cells": [
  {
   "cell_type": "code",
   "execution_count": 17,
   "metadata": {},
   "outputs": [
    {
     "name": "stdout",
     "output_type": "stream",
     "text": [
      "18\n",
      "9.0\n"
     ]
    }
   ],
   "source": [
    "num = []\n",
    "while(True):\n",
    "    ans = int(input())\n",
    "    if(ans < 0):\n",
    "        break\n",
    "    num.append(ans)\n",
    "num.sort()\n",
    "num = num[1:-1]\n",
    "print(sum(num))\n",
    "print(sum(num)/len(num))"
   ]
  },
  {
   "cell_type": "code",
   "execution_count": 15,
   "metadata": {},
   "outputs": [
    {
     "name": "stdout",
     "output_type": "stream",
     "text": [
      "17.5\n",
      "12.5\n",
      "2.5\n",
      "2.5\n",
      "12.5\n",
      "17.5\n"
     ]
    }
   ],
   "source": [
    "\n",
    "num1s = int(input(\"please enter the size of the first array\"))\n",
    "num1 = []\n",
    "for i in range(num1s):\n",
    "    num1.append(int(input()))\n",
    "average = sum(num1)/len(num1)\n",
    "for i in num1:\n",
    "\n",
    "    print(i - average if i - average > 0 else average - i )"
   ]
  },
  {
   "cell_type": "code",
   "execution_count": 11,
   "metadata": {},
   "outputs": [
    {
     "name": "stdout",
     "output_type": "stream",
     "text": [
      "True\n"
     ]
    }
   ],
   "source": [
    "\n",
    "num1s = int(input(\"please enter the size of the first array\"))\n",
    "num1 = []\n",
    "for i in range(num1s):\n",
    "    num1.append(int(input()))\n",
    "\n",
    "num2s = int(input(\"please enter the size of the second array\"))\n",
    "num2 = []\n",
    "for i in range(num2s):\n",
    "    num2.append(int(input()))\n",
    "\n",
    "for i in num2:\n",
    "    if(not i in num1):\n",
    "        print(False)\n",
    "print(True)"
   ]
  },
  {
   "cell_type": "code",
   "execution_count": 2,
   "metadata": {},
   "outputs": [
    {
     "name": "stdout",
     "output_type": "stream",
     "text": [
      "[5, 20, 25, 30, 35, 50]\n"
     ]
    }
   ],
   "source": [
    "numbers = [5,20,30,35,50]\n",
    "numbers.append(int(input(\"please enter a number to input\")))\n",
    "numbers.sort()\n",
    "print(numbers)"
   ]
  },
  {
   "cell_type": "code",
   "execution_count": 24,
   "metadata": {},
   "outputs": [
    {
     "name": "stdout",
     "output_type": "stream",
     "text": [
      "[4, 7, 4, 9, 2, 9, 1, 6, 6, 0, 4, 6, 7, 2, 10, 1, 10, 1, 6, 9]\n",
      "[4, 7, 4, 2, 1, 6, 6, 0, 4, 6, 7, 2, 10, 1, 10, 1, 6]\n"
     ]
    }
   ],
   "source": [
    "import random\n",
    "nums = []\n",
    "for i in range(20):\n",
    "    nums.append(random.randint(0,10))\n",
    "print(nums)\n",
    "delete = int(input(\"please enter a number you would like to delete\"))\n",
    "i = 0\n",
    "while (i < len(nums)):\n",
    "    if(nums[i] == delete):\n",
    "        nums.remove(delete)\n",
    "    i+= 1\n",
    "print(nums)"
   ]
  }
 ],
 "metadata": {
  "interpreter": {
   "hash": "8455a15bd60d6049aeb4bb03aca1fccc3b529385f75446bed320ae31484763bd"
  },
  "kernelspec": {
   "display_name": "Python 3.9.9 ('base')",
   "language": "python",
   "name": "python3"
  },
  "language_info": {
   "codemirror_mode": {
    "name": "ipython",
    "version": 3
   },
   "file_extension": ".py",
   "mimetype": "text/x-python",
   "name": "python",
   "nbconvert_exporter": "python",
   "pygments_lexer": "ipython3",
   "version": "3.9.9"
  },
  "orig_nbformat": 4
 },
 "nbformat": 4,
 "nbformat_minor": 2
}
