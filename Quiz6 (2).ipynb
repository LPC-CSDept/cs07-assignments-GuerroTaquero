{
  "nbformat": 4,
  "nbformat_minor": 0,
  "metadata": {
    "colab": {
      "name": "quiz6.ipynb",
      "provenance": []
    },
    "kernelspec": {
      "name": "python3",
      "display_name": "Python 3"
    },
    "language_info": {
      "name": "python"
    }
  },
  "cells": [
    {
      "cell_type": "code",
      "execution_count": 3,
      "metadata": {
        "colab": {
          "base_uri": "https://localhost:8080/"
        },
        "id": "H0W_bpm9Wx2R",
        "outputId": "694e7acc-a5b5-4bd3-e648-fef5a37bc678"
      },
      "outputs": [
        {
          "output_type": "stream",
          "name": "stdout",
          "text": [
            "how many students do you want to track data for 3\n",
            "what is the id of student 1 1001\n",
            "what is the name of student 1 Kim\n",
            "please enter score number 1 for student 1 100\n",
            "please enter score number 2 for student 1 80\n",
            "please enter score number 3 for student 1 70\n",
            "please enter score number 4 for student 1 60\n",
            "what is the id of student 2 1002\n",
            "what is the name of student 2 Bill\n",
            "please enter score number 1 for student 2 100\n",
            "please enter score number 2 for student 2 90\n",
            "please enter score number 3 for student 2 80\n",
            "please enter score number 4 for student 2 60\n",
            "what is the id of student 3 1003\n",
            "what is the name of student 3 Mary\n",
            "please enter score number 1 for student 3 90\n",
            "please enter score number 2 for student 3 80\n",
            "please enter score number 3 for student 3 70\n",
            "please enter score number 4 for student 3 100\n",
            "1001 Kim 100 80 70 60 Total: 310 Avg: 77.5\n",
            "1002 Bill 100 90 80 60 Total: 330 Avg: 82.5\n",
            "1003 Mary 90 80 70 100 Total: 340 Avg: 85.0\n",
            "The student with the highest total score is Mary with an id of 1003\n",
            "The student with the smallest total score is Kim with an id of 1001\n"
          ]
        }
      ],
      "source": [
        "id = []\n",
        "name = []\n",
        "scores = []\n",
        "\n",
        "def getInput():\n",
        "  for i in range(int(input(\"how many students do you want to track data for \"))):\n",
        "    print(\"what is the id of student\", i+1, end=\" \")\n",
        "    id.append(input())\n",
        "    print(\"what is the name of student\", i+1, end=\" \")\n",
        "    name.append(input())\n",
        "    scores.append([])\n",
        "    for j in range(4):\n",
        "      print(\"please enter score number\", j+1 ,\"for student\", i+1, end=\" \")\n",
        "      scores[-1].append(int(input()))\n",
        "\n",
        "\n",
        "def findHighestScore():\n",
        "  index = 0\n",
        "  smallest = float(\"-inf\")\n",
        "  for i in range(len(scores)):\n",
        "    if(sum(scores[i]) > smallest):\n",
        "      smallest = sum(scores[i])\n",
        "      index = i\n",
        "  \n",
        "  return index\n",
        "\n",
        "def findLowestScore():\n",
        "  index = 0\n",
        "  smallest = float(\"inf\")\n",
        "  for i in range(len(scores)):\n",
        "    if(sum(scores[i]) < smallest):\n",
        "      smallest = sum(scores[i])\n",
        "      index = i\n",
        "  \n",
        "  return index\n",
        "\n",
        "def printAll():\n",
        "  for i in range(len(id)):\n",
        "    scoresStr = \"\"\n",
        "    for j in scores[i]:\n",
        "      scoresStr += str(j) + \" \"\n",
        "    scoresStr = scoresStr[0:-1]\n",
        "    print(id[i], name[i], scoresStr, \"Total:\", sum(scores[i]), \"Avg:\", sum(scores[i])/4)\n",
        "\n",
        "getInput()\n",
        "printAll()Ma\n",
        "highIndex = findHighestScore()\n",
        "print(\"The student with the highest total score is\", name[highIndex], \"with an id of\", id[highIndex])\n",
        "lowIndex = findLowestScore()\n",
        "print(\"The student with the smallest total score is\", name[lowIndex], \"with an id of\", id[lowIndex])"
      ]
    },
    {
      "cell_type": "code",
      "source": [
        "list1 = [1,3,4,5,6,4]\n",
        "list2 = [1,3,6,6,8,5,10]\n",
        "\n",
        "getevens = lambda x : x%2 == 0\n",
        "def getmerged(list1, list2):\n",
        "  newList1 = []\n",
        "  newList2 = []\n",
        "  for i in list1:\n",
        "    if(getevens(i)):\n",
        "      newList1.append(i)\n",
        "  for i in list2:\n",
        "    if(getevens(i)):\n",
        "      newList2.append(i)\n",
        "  finalList = newList1 + newList2\n",
        "  for i in finalList:\n",
        "    yield(i)\n",
        "\n",
        "gen = getmerged(list1, list2)\n",
        "print(\"values from generator function: \", end=\"\")\n",
        "for i in gen:\n",
        "  print(i, end=\" \")"
      ],
      "metadata": {
        "colab": {
          "base_uri": "https://localhost:8080/"
        },
        "id": "8C_59JTjXNgf",
        "outputId": "afa92ee8-f842-458c-b37b-74eae37ad824"
      },
      "execution_count": null,
      "outputs": [
        {
          "output_type": "stream",
          "name": "stdout",
          "text": [
            "values from generator function: 4 6 4 6 6 8 10 "
          ]
        }
      ]
    }
  ]
}