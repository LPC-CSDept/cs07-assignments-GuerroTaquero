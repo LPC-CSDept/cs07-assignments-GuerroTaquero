{
 "cells": [
  {
   "cell_type": "code",
   "execution_count": 10,
   "metadata": {},
   "outputs": [
    {
     "name": "stdout",
     "output_type": "stream",
     "text": [
      "2\n",
      "4\n",
      "8\n",
      "16\n",
      "32\n",
      "64\n",
      "128\n",
      "256\n",
      "512\n",
      "1024\n"
     ]
    }
   ],
   "source": [
    "o = 2\n",
    "for i in range(10):\n",
    "    print(o)\n",
    "    o = o * 2\n",
    "    "
   ]
  },
  {
   "cell_type": "code",
   "execution_count": null,
   "metadata": {},
   "outputs": [],
   "source": []
  },
  {
   "cell_type": "code",
   "execution_count": 13,
   "metadata": {},
   "outputs": [
    {
     "name": "stdout",
     "output_type": "stream",
     "text": [
      "234 234\n",
      "238 4\n",
      "242 4\n",
      "247 5\n",
      "2469 2222\n"
     ]
    }
   ],
   "source": [
    "ans = 0\n",
    "for i in range(5):\n",
    "    add = int(input(\"please enter a value\"))\n",
    "    ans += add\n",
    "    print(ans, add)"
   ]
  },
  {
   "cell_type": "code",
   "execution_count": 15,
   "metadata": {},
   "outputs": [
    {
     "name": "stdout",
     "output_type": "stream",
     "text": [
      "3 3\n",
      "6 3\n",
      "9 3\n",
      "12 3\n",
      "15 3\n"
     ]
    }
   ],
   "source": [
    "ans = 0\n",
    "i = 0s\n",
    "while i < 5:\n",
    "    add = int(input(\"please enter a value\"))\n",
    "    ans += add\n",
    "    print(ans, add)\n",
    "    i += 1"
   ]
  }
 ],
 "metadata": {
  "interpreter": {
   "hash": "a13f174bdfb9086407698ac94c2922ad46eb1b717dbcaf7394ce5ac4acd3ddbc"
  },
  "kernelspec": {
   "display_name": "Python 3.8.10 64-bit (windows store)",
   "language": "python",
   "name": "python3"
  },
  "language_info": {
   "codemirror_mode": {
    "name": "ipython",
    "version": 3
   },
   "file_extension": ".py",
   "mimetype": "text/x-python",
   "name": "python",
   "nbconvert_exporter": "python",
   "pygments_lexer": "ipython3",
   "version": "3.9.9"
  },
  "orig_nbformat": 4
 },
 "nbformat": 4,
 "nbformat_minor": 2
}
