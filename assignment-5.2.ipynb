{
 "cells": [
  {
   "cell_type": "code",
   "execution_count": 8,
   "metadata": {},
   "outputs": [
    {
     "name": "stdout",
     "output_type": "stream",
     "text": [
      "[1, 4, 5]\n",
      "[1, 2, 3]\n",
      "[1, 4, 5]\n",
      "[2, 3, 4]\n",
      "[1, 4, 5]\n",
      "[3, 4, 5]\n",
      "[1, 4, 5]\n",
      "[4, 5]\n",
      "[1, 4, 5]\n",
      "[5]\n",
      "False\n"
     ]
    }
   ],
   "source": [
    "\n",
    "num1s = int(input(\"please enter the size of the first array\"))\n",
    "num1 = []\n",
    "for i in range(num1s):\n",
    "    num1.append(int(input()))\n",
    "\n",
    "num2s = int(input(\"please enter the size of the second array\"))\n",
    "num2 = []\n",
    "for i in range(num2s):\n",
    "    num2.append(int(input()))\n",
    "\n",
    "true = False\n",
    "for i in range(len(num2)):\n",
    "    print(num1)\n",
    "    print(num2[i:i+len(num1)])\n",
    "    if(num1 == num2[i:i+len(num1)-1]):\n",
    "\n",
    "        true = True\n",
    "print(true)"
   ]
  },
  {
   "cell_type": "code",
   "execution_count": 10,
   "metadata": {},
   "outputs": [
    {
     "name": "stdout",
     "output_type": "stream",
     "text": [
      "[1, 4, 2, 5, 3, 6, 7]\n"
     ]
    }
   ],
   "source": [
    "\n",
    "num1s = int(input(\"please enter the size of the first array\"))\n",
    "num1 = []\n",
    "for i in range(num1s):\n",
    "    num1.append(int(input()))\n",
    "\n",
    "num2s = int(input(\"please enter the size of the second array\"))\n",
    "num2 = []\n",
    "for i in range(num2s):\n",
    "    num2.append(int(input()))\n",
    "ans = []\n",
    "curr = num1 if len(num1) > len(num2) else num2\n",
    "\n",
    "for i in range(len(curr)):\n",
    "    try:\n",
    "        ans.append(num1[i])\n",
    "    except:\n",
    "        pass\n",
    "    try:\n",
    "        ans.append(num2[i])\n",
    "    except:\n",
    "        pass\n",
    "print(ans)"
   ]
  },
  {
   "cell_type": "code",
   "execution_count": 12,
   "metadata": {},
   "outputs": [
    {
     "name": "stdout",
     "output_type": "stream",
     "text": [
      "True\n"
     ]
    }
   ],
   "source": [
    "key = input(\"please enter the key\")\n",
    "list = []\n",
    "for i in range(int(input(\"please enter the length of the list\"))):\n",
    "    list.append(input())\n",
    "print(key in list)"
   ]
  },
  {
   "cell_type": "code",
   "execution_count": null,
   "metadata": {},
   "outputs": [],
   "source": [
    "\n",
    "import random\n",
    "rows = int(input(\"please enter the length of the matrix\"))\n",
    "cols = int(input(\"please enter the height of the matrix\"))\n",
    "matrix = []\n",
    "\n",
    "for i in range(rows):\n",
    "    matrix.append([])\n",
    "    for j in range(cols):\n",
    "        matrix[-1].append(random.randint(0,100))\n",
    "\n",
    "print(matrix)\n",
    "maxi = float(\"-inf\")\n",
    "for i, j in enumerate(matrix):\n",
    "    if(sum(j) > maxi):\n",
    "        maxi = i\n",
    "print(maxi)\n",
    "matrix = list(map(list, zip(*matrix)))\n",
    "maxi = float(\"-inf\")\n",
    "for i, j in enumerate(matrix):\n",
    "    if(sum(j) > maxi):\n",
    "        maxi = i\n",
    "print(maxi)\n",
    "\n"
   ]
  }
 ],
 "metadata": {
  "interpreter": {
   "hash": "a13f174bdfb9086407698ac94c2922ad46eb1b717dbcaf7394ce5ac4acd3ddbc"
  },
  "kernelspec": {
   "display_name": "Python 3.8.10 64-bit (windows store)",
   "language": "python",
   "name": "python3"
  },
  "language_info": {
   "codemirror_mode": {
    "name": "ipython",
    "version": 3
   },
   "file_extension": ".py",
   "mimetype": "text/x-python",
   "name": "python",
   "nbconvert_exporter": "python",
   "pygments_lexer": "ipython3",
   "version": "3.9.9"
  },
  "orig_nbformat": 4
 },
 "nbformat": 4,
 "nbformat_minor": 2
}
