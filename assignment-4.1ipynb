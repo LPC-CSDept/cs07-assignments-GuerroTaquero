{
 "cells": [
  {
   "cell_type": "code",
   "execution_count": 2,
   "metadata": {},
   "outputs": [
    {
     "name": "stdout",
     "output_type": "stream",
     "text": [
      "2\n",
      "4\n",
      "8\n",
      "16\n",
      "32\n",
      "64\n",
      "128\n",
      "256\n",
      "512\n",
      "1024\n"
     ]
    }
   ],
   "source": [
    "number = int(input(\"please enter a number\"))\n",
    "i = 0\n",
    "ans = 2\n",
    "curr = ans\n",
    "while(i < number):   \n",
    "    print(curr)\n",
    "    curr = curr * ans\n",
    "    i+=1\n"
   ]
  },
  {
   "cell_type": "code",
   "execution_count": 3,
   "metadata": {},
   "outputs": [
    {
     "name": "stdout",
     "output_type": "stream",
     "text": [
      "1010\n"
     ]
    }
   ],
   "source": [
    "sum = 0\n",
    "for i in range(5):\n",
    "    sum += int(input(\"please enter a number to add\"))\n",
    "print"
   ]
  },
  {
   "cell_type": "code",
   "execution_count": 4,
   "metadata": {},
   "outputs": [
    {
     "name": "stdout",
     "output_type": "stream",
     "text": [
      "50\n"
     ]
    }
   ],
   "source": [
    "sum = 0\n",
    "i = 0\n",
    "while (i in range(5)):\n",
    "    i += 1\n",
    "    sum += int(input(\"please enter a number to add\"))\n",
    "print(sum)"
   ]
  },
  {
   "cell_type": "code",
   "execution_count": 45,
   "metadata": {},
   "outputs": [
    {
     "name": "stdout",
     "output_type": "stream",
     "text": [
      "87\n",
      "77\n"
     ]
    }
   ],
   "source": [
    "import random\n",
    "randomNum = random.randint(0,100)\n",
    "while(randomNum % 2 != 0):\n",
    "    print(randomNum)\n",
    "    randomNum = random.randint(0,100)"
   ]
  },
  {
   "cell_type": "code",
   "execution_count": 71,
   "metadata": {},
   "outputs": [
    {
     "name": "stdout",
     "output_type": "stream",
     "text": [
      "18 18\n",
      "65 47\n",
      "69 4\n",
      "100 31\n",
      "177\n"
     ]
    }
   ],
   "source": [
    "import random\n",
    "new = random.randint(0,100)\n",
    "number = new\n",
    "while(number <= 100):\n",
    "    print(number, new)\n",
    "    new = random.randint(0,100)\n",
    "    number += new\n",
    "print(number)\n"
   ]
  }
 ],
 "metadata": {
  "interpreter": {
   "hash": "a13f174bdfb9086407698ac94c2922ad46eb1b717dbcaf7394ce5ac4acd3ddbc"
  },
  "kernelspec": {
   "display_name": "Python 3.8.10 64-bit (windows store)",
   "language": "python",
   "name": "python3"
  },
  "language_info": {
   "codemirror_mode": {
    "name": "ipython",
    "version": 3
   },
   "file_extension": ".py",
   "mimetype": "text/x-python",
   "name": "python",
   "nbconvert_exporter": "python",
   "pygments_lexer": "ipython3",
   "version": "3.9.9"
  },
  "orig_nbformat": 4
 },
 "nbformat": 4,
 "nbformat_minor": 2
}
